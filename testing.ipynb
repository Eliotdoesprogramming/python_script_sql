{
 "cells": [
  {
   "cell_type": "code",
   "execution_count": 2,
   "source": [
    "import pyodbc\n",
    "import pandas as pd\n",
    "import numpy as np"
   ],
   "outputs": [],
   "metadata": {}
  },
  {
   "cell_type": "code",
   "execution_count": 5,
   "source": [
    "from multiple_insert import multiple_fast_insert"
   ],
   "outputs": [],
   "metadata": {}
  },
  {
   "cell_type": "code",
   "execution_count": 35,
   "source": [
    "df = pd.DataFrame(data=np.array([[1,'Fred'],[2,'Jackie']]),columns=['id','name'])\n",
    "df.id = df.id.astype(np.int64)\n",
    "df.dtypes\n"
   ],
   "outputs": [
    {
     "output_type": "execute_result",
     "data": {
      "text/plain": [
       "id       int64\n",
       "name    object\n",
       "dtype: object"
      ]
     },
     "metadata": {},
     "execution_count": 35
    }
   ],
   "metadata": {}
  },
  {
   "cell_type": "code",
   "execution_count": 14,
   "source": [
    "!export ODBCSYSINI=/opt/odbc "
   ],
   "outputs": [],
   "metadata": {}
  },
  {
   "cell_type": "code",
   "execution_count": 15,
   "source": [
    "multiple_fast_insert(df, 'TestDB','dbo','People')"
   ],
   "outputs": [
    {
     "output_type": "error",
     "ename": "ProgrammingError",
     "evalue": "('42000', '[42000] [Microsoft][ODBC Driver 17 for SQL Server][SQL Server]Column, parameter, or variable #1: Cannot find data type Fred.1. (2715) (SQLExecDirectW)')",
     "traceback": [
      "\u001b[0;31m---------------------------------------------------------------------------\u001b[0m",
      "\u001b[0;31mProgrammingError\u001b[0m                          Traceback (most recent call last)",
      "\u001b[0;32m/tmp/ipykernel_3948/3154915910.py\u001b[0m in \u001b[0;36m<module>\u001b[0;34m\u001b[0m\n\u001b[0;32m----> 1\u001b[0;31m \u001b[0mmultiple_fast_insert\u001b[0m\u001b[0;34m(\u001b[0m\u001b[0mdf\u001b[0m\u001b[0;34m,\u001b[0m \u001b[0;34m'TestDB'\u001b[0m\u001b[0;34m,\u001b[0m\u001b[0;34m'dbo'\u001b[0m\u001b[0;34m,\u001b[0m\u001b[0;34m'People'\u001b[0m\u001b[0;34m)\u001b[0m\u001b[0;34m\u001b[0m\u001b[0;34m\u001b[0m\u001b[0m\n\u001b[0m",
      "\u001b[0;32m~/github/sql-tester/multiple_insert.py\u001b[0m in \u001b[0;36mmultiple_fast_insert\u001b[0;34m(dataframe, db, schema, table, server_name, uid, pw, batch_size)\u001b[0m\n\u001b[1;32m     22\u001b[0m     \u001b[0mi\u001b[0m \u001b[0;34m=\u001b[0m \u001b[0;36m0\u001b[0m\u001b[0;34m\u001b[0m\u001b[0;34m\u001b[0m\u001b[0m\n\u001b[1;32m     23\u001b[0m     \u001b[0;32mwhile\u001b[0m \u001b[0mi\u001b[0m \u001b[0;34m<\u001b[0m \u001b[0mlen\u001b[0m\u001b[0;34m(\u001b[0m\u001b[0mdf_listed\u001b[0m\u001b[0;34m)\u001b[0m\u001b[0;34m:\u001b[0m\u001b[0;34m\u001b[0m\u001b[0;34m\u001b[0m\u001b[0m\n\u001b[0;32m---> 24\u001b[0;31m         \u001b[0mcur\u001b[0m\u001b[0;34m.\u001b[0m\u001b[0mexecute\u001b[0m\u001b[0;34m(\u001b[0m\u001b[0;34m'INSERT INTO '\u001b[0m\u001b[0;34m+\u001b[0m\u001b[0mschema\u001b[0m\u001b[0;34m+\u001b[0m\u001b[0;34m'.'\u001b[0m\u001b[0;34m+\u001b[0m\u001b[0mtable\u001b[0m\u001b[0;34m+\u001b[0m\u001b[0;34m' ('\u001b[0m\u001b[0;34m+\u001b[0m\u001b[0mheaders\u001b[0m\u001b[0;34m+\u001b[0m\u001b[0;34m') VALUES ('\u001b[0m\u001b[0;34m+\u001b[0m\u001b[0mqmark\u001b[0m\u001b[0;34m+\u001b[0m\u001b[0;34m')'\u001b[0m\u001b[0;34m,\u001b[0m \u001b[0mdf_listed\u001b[0m\u001b[0;34m[\u001b[0m\u001b[0mi\u001b[0m\u001b[0;34m:\u001b[0m\u001b[0mi\u001b[0m\u001b[0;34m+\u001b[0m\u001b[0mbatch_size\u001b[0m\u001b[0;34m]\u001b[0m\u001b[0;34m)\u001b[0m\u001b[0;34m\u001b[0m\u001b[0;34m\u001b[0m\u001b[0m\n\u001b[0m\u001b[1;32m     25\u001b[0m         \u001b[0mi\u001b[0m \u001b[0;34m+=\u001b[0m \u001b[0mbatch_size\u001b[0m\u001b[0;34m\u001b[0m\u001b[0;34m\u001b[0m\u001b[0m\n\u001b[1;32m     26\u001b[0m     \u001b[0msql_conn\u001b[0m\u001b[0;34m.\u001b[0m\u001b[0mcommit\u001b[0m\u001b[0;34m(\u001b[0m\u001b[0;34m)\u001b[0m\u001b[0;34m\u001b[0m\u001b[0;34m\u001b[0m\u001b[0m\n",
      "\u001b[0;31mProgrammingError\u001b[0m: ('42000', '[42000] [Microsoft][ODBC Driver 17 for SQL Server][SQL Server]Column, parameter, or variable #1: Cannot find data type Fred.1. (2715) (SQLExecDirectW)')"
     ]
    }
   ],
   "metadata": {}
  },
  {
   "cell_type": "code",
   "execution_count": 47,
   "source": [
    "import pyodbc\n",
    "sql_conn = pyodbc.connect('DRIVER={ODBC Driver 17 for SQL Server};SERVER='+'localhost'+';DATABASE=TestDb;UID=sa;PWD=Password123')\n",
    "cur = sql_conn.cursor()\n"
   ],
   "outputs": [],
   "metadata": {}
  },
  {
   "cell_type": "code",
   "execution_count": 48,
   "source": [
    "print(tuple(df.values))"
   ],
   "outputs": [
    {
     "output_type": "stream",
     "name": "stdout",
     "text": [
      "(array([1, 'Fred'], dtype=object), array([2, 'Jackie'], dtype=object))\n"
     ]
    }
   ],
   "metadata": {}
  },
  {
   "cell_type": "code",
   "execution_count": 49,
   "source": [
    "cur.executemany('INSERT INTO dbo.People (id,name) VALUES (?,?)', df.values.tolist())"
   ],
   "outputs": [],
   "metadata": {}
  },
  {
   "cell_type": "code",
   "execution_count": null,
   "source": [],
   "outputs": [],
   "metadata": {}
  },
  {
   "cell_type": "code",
   "execution_count": 50,
   "source": [
    "sql_conn.commit()\n",
    "cur.close()"
   ],
   "outputs": [],
   "metadata": {}
  },
  {
   "cell_type": "code",
   "execution_count": 3,
   "source": [
    "fakepeople = pd.read_csv('MOCK_DATA.csv')"
   ],
   "outputs": [],
   "metadata": {}
  },
  {
   "cell_type": "code",
   "execution_count": 6,
   "source": [
    "multiple_fast_insert(fakepeople, 'TestDB','dbo','People',batch_size=10)"
   ],
   "outputs": [
    {
     "output_type": "stream",
     "name": "stdout",
     "text": [
      "[[3, 'Erich'], [4, 'Jayme'], [5, 'Cordell'], [6, 'Idaline'], [7, 'Liliane'], [8, 'Tiffanie'], [9, 'Durante'], [10, 'Adena'], [11, 'Row'], [12, 'Myra'], [13, 'Rebeka'], [14, 'Christophe'], [15, 'Paten'], [16, 'Powell'], [17, 'Allyn'], [18, 'Melva'], [19, 'Blake'], [20, 'Aura'], [21, 'Rik'], [22, 'Barrett'], [23, 'Gwenore'], [24, 'Clemmy'], [25, 'Ola'], [26, 'Agnola'], [27, 'Standford'], [28, 'Darin'], [29, 'Joell'], [30, 'Nickolaus'], [31, 'Beryl'], [32, 'Emmalyn'], [33, 'Kenton'], [34, 'Gottfried'], [35, 'Katalin'], [36, 'Aldis'], [37, 'Britteny'], [38, 'Abeu'], [39, 'Putnam'], [40, 'Alasdair'], [41, 'Delila'], [42, 'Brandice'], [43, 'Ellie'], [44, 'Rosabella'], [45, 'Rosemary'], [46, 'Mick'], [47, 'Britta'], [48, 'Klarika'], [49, 'Sigmund'], [50, 'Perice'], [51, 'Frederick'], [52, 'Randa'], [53, 'Lissie'], [54, 'Nerte'], [55, 'Fields'], [56, 'Ruddie'], [57, 'Damiano'], [58, 'Eran'], [59, 'Lemar'], [60, 'Haskel'], [61, 'Gregoor'], [62, 'Josephine'], [63, 'Crystal'], [64, 'Marleen'], [65, 'Barnie'], [66, 'Nana'], [67, 'Ulrica'], [68, 'Marjie'], [69, 'Leroy'], [70, 'Lonna'], [71, 'Matti'], [72, 'August'], [73, 'Donnie'], [74, 'Tisha'], [75, 'Em'], [76, 'Cahra'], [77, 'Gabriella'], [78, 'Sheena'], [79, 'Oriana'], [80, 'Electra'], [81, 'Joann'], [82, 'Angie'], [83, 'Shell'], [84, 'Cullan'], [85, 'Zaneta'], [86, 'Spenser'], [87, 'Brianna'], [88, 'Maryellen'], [89, 'Inger'], [90, 'Arnaldo'], [91, 'Lilias'], [92, 'Lacy'], [93, 'Reynolds'], [94, 'Samson'], [95, 'Lorne'], [96, 'Neil'], [97, 'Harriett'], [98, 'Anna-maria'], [99, 'Lynsey'], [100, 'Mitzi'], [101, 'Ernesto'], [102, 'Myrtia'], [103, 'Faythe'], [104, 'Amelia'], [105, 'Brunhilde'], [106, 'Rabi'], [107, 'Clarice'], [108, 'Sonny'], [109, 'Rosita'], [110, 'Sheila'], [111, 'Raul'], [112, 'Ahmed'], [113, 'Erhard'], [114, 'Roana'], [115, 'Arnold'], [116, 'Anita'], [117, 'Cynthea'], [118, 'Philippe'], [119, 'Kirsteni'], [120, 'Willi'], [121, 'Kristos'], [122, 'Bartlet'], [123, 'Clarey'], [124, 'Berenice'], [125, 'Cynthia'], [126, 'Lauraine'], [127, 'Ardelle'], [128, 'Corina'], [129, 'Nico'], [130, 'Tod'], [131, 'Jarrett'], [132, 'Nydia'], [133, 'Jarad'], [134, 'Pasquale'], [135, 'Alard'], [136, 'Loren'], [137, 'Nefen'], [138, 'Delly'], [139, 'Nickolaus'], [140, 'Rena'], [141, 'Corrine'], [142, 'Read'], [143, 'Garvey'], [144, 'Jeromy'], [145, 'Heloise'], [146, 'Seka'], [147, 'Dorotea'], [148, 'Kelly'], [149, 'Kassia'], [150, 'Barbe'], [151, 'Dody'], [152, 'Evelyn'], [153, 'Darrel'], [154, 'Bobbie'], [155, 'Bunni'], [156, 'Belicia'], [157, 'Yard'], [158, 'Tallulah'], [159, 'Harald'], [160, 'Janifer'], [161, 'Tildie'], [162, 'Katey'], [163, 'Mickie'], [164, 'Jacklin'], [165, 'Elfrida'], [166, 'Keefer'], [167, 'Rozella'], [168, 'Vaughn'], [169, 'Meridel'], [170, 'Karleen'], [171, 'Olympe'], [172, 'Arlie'], [173, 'Aggi'], [174, 'Edan'], [175, 'Trudy'], [176, 'Berke'], [177, 'Nap'], [178, 'Vale'], [179, 'Forster'], [180, 'Tine'], [181, 'Vasilis'], [182, 'Berte'], [183, 'Pasquale'], [184, 'Katusha'], [185, 'Leesa'], [186, 'Grant'], [187, 'Lizbeth'], [188, 'Amelita'], [189, 'Ilyssa'], [190, 'Ally'], [191, 'Lamar'], [192, 'Claudell'], [193, 'Myriam'], [194, 'Emmeline'], [195, 'Arabella'], [196, 'Isador'], [197, 'Floyd'], [198, 'Kylen'], [199, 'Gerek'], [200, 'Maren'], [201, 'Adrianna'], [202, 'Giff'], [203, 'Danella'], [204, 'Rustin'], [205, 'Joachim'], [206, 'Evey'], [207, 'Sharl'], [208, 'Mil'], [209, 'Dasie'], [210, 'Georgia'], [211, 'Evangelin'], [212, 'Sigismund'], [213, 'Rozele'], [214, 'Gus'], [215, 'Nerissa'], [216, 'Lurline'], [217, 'Gareth'], [218, 'Florri'], [219, 'Arvie'], [220, 'Barb'], [221, 'Sammie'], [222, 'Yardley'], [223, 'Joshuah'], [224, 'Yves'], [225, 'Kingsly'], [226, 'Velvet'], [227, 'Levin'], [228, 'Debora'], [229, 'Lucio'], [230, 'Cristabel'], [231, 'Brandy'], [232, 'Benedikt'], [233, 'Tove'], [234, 'Herrick'], [235, 'Ransom'], [236, 'Antonina'], [237, 'Melvin'], [238, 'Findlay'], [239, 'Ricky'], [240, 'Nev'], [241, 'Ben'], [242, 'Rosalie'], [243, 'Parker'], [244, 'Jedidiah'], [245, 'Clevey'], [246, 'Roxane'], [247, 'Bale'], [248, 'Becka'], [249, 'Amos'], [250, 'Carmel'], [251, 'Augustin'], [252, 'Nealy'], [253, 'Reinaldos'], [254, 'Natala'], [255, 'Frieda'], [256, 'Ivett'], [257, 'Bianka'], [258, 'Karmen'], [259, 'Ralina'], [260, 'Germaine'], [261, 'Lisbeth'], [262, 'Fredek'], [263, 'Reider'], [264, 'Leonid'], [265, 'Melody'], [266, 'Toby'], [267, 'Judas'], [268, 'Friedrich'], [269, 'Westley'], [270, 'Kaleb'], [271, 'Dulcine'], [272, 'Oran'], [273, 'Garold'], [274, 'Netty'], [275, 'Rainer'], [276, 'Ethe'], [277, 'Stephani'], [278, 'Isa'], [279, 'Forester'], [280, 'Rosene'], [281, 'Sheela'], [282, 'Anabella'], [283, 'Horatius'], [284, 'Vivien'], [285, 'Thatch'], [286, 'Sholom'], [287, 'Ruthanne'], [288, 'Donny'], [289, 'Vale'], [290, 'Baxy'], [291, 'Aloysia'], [292, 'Mona'], [293, 'Olly'], [294, 'Carita'], [295, 'Frederique'], [296, 'Carlen'], [297, 'Ania'], [298, 'Curr'], [299, 'Betsey'], [300, 'Dina'], [301, 'Lezlie'], [302, 'Marie-ann'], [303, 'Zuzana'], [304, 'Kaitlin'], [305, 'El'], [306, 'Gwendolin'], [307, 'Devland'], [308, 'Lorens'], [309, 'Vanna'], [310, 'Silvio'], [311, 'Ebeneser'], [312, 'Sherie'], [313, 'Karl'], [314, 'Beck'], [315, 'Etan'], [316, 'Garvy'], [317, 'Christophorus'], [318, 'Carrie'], [319, 'Effie'], [320, 'Bennie'], [321, 'Collette'], [322, 'Dorey'], [323, 'Iseabal'], [324, 'Galven'], [325, 'Sonny'], [326, 'Kaitlynn'], [327, 'Aimee'], [328, 'Rickey'], [329, 'Mollie'], [330, 'Goldi'], [331, 'Cristiano'], [332, 'Calida'], [333, 'Keary'], [334, 'Sullivan'], [335, 'Arley'], [336, 'Krysta'], [337, 'Raye'], [338, 'Alick'], [339, 'Ezequiel'], [340, 'Becca'], [341, 'Asa'], [342, 'Lemmy'], [343, 'Jo-ann'], [344, 'Hoebart'], [345, 'Robyn'], [346, 'Gerry'], [347, 'Halsey'], [348, 'Lannie'], [349, 'Lesley'], [350, 'Ky'], [351, 'Olenka'], [352, 'Waylen'], [353, 'Marlena'], [354, 'Rasia'], [355, 'Dick'], [356, 'Preston'], [357, 'Daune'], [358, 'Warner'], [359, 'Daryl'], [360, 'Pepe'], [361, 'Josefa'], [362, 'Isidor'], [363, 'Phillida'], [364, 'Dotty'], [365, 'Amara'], [366, 'Rochette'], [367, 'Dawn'], [368, 'Arley'], [369, 'Gilberto'], [370, 'Tully'], [371, 'Tuckie'], [372, 'Yevette'], [373, 'Theresina'], [374, 'Pacorro'], [375, 'Tilly'], [376, 'Worthy'], [377, 'Neddie'], [378, 'Anjanette'], [379, 'Andeee'], [380, 'Flem'], [381, 'Rolland'], [382, 'Deck'], [383, 'Uta'], [384, 'Sherwin'], [385, 'Alica'], [386, 'Kaitlin'], [387, 'Durant'], [388, 'Corney'], [389, 'Trina'], [390, 'Eziechiele'], [391, 'Marcie'], [392, 'Hamil'], [393, 'Allix'], [394, 'Sullivan'], [395, 'Lorettalorna'], [396, 'Berkley'], [397, 'Willie'], [398, 'Davis'], [399, 'Nikki'], [400, 'Manuel'], [401, 'Tallie'], [402, 'Ajay'], [403, 'Rodolphe'], [404, 'Caye'], [405, 'Sayre'], [406, 'Guenevere'], [407, 'Cart'], [408, 'Frederik'], [409, 'Shadow'], [410, 'Dasha'], [411, 'Valle'], [412, 'Fleur'], [413, 'Ros'], [414, 'Eleni'], [415, 'Bev'], [416, 'Nataline'], [417, 'Brittne'], [418, 'Charlotte'], [419, 'Jaime'], [420, 'Berk'], [421, 'Sari'], [422, 'Stanford'], [423, 'Cheryl'], [424, 'Jillane'], [425, 'Ingamar'], [426, 'Noah'], [427, 'Armstrong'], [428, 'Ford'], [429, 'Val'], [430, 'Merle'], [431, 'Luise'], [432, 'Virgie'], [433, 'Conroy'], [434, 'Tracey'], [435, 'Rudolf'], [436, 'Bryn'], [437, 'Adrianna'], [438, 'Randolph'], [439, 'Elicia'], [440, 'Onida'], [441, 'Baird'], [442, 'Pammi'], [443, 'Duane'], [444, 'Ethelda'], [445, 'Bartlett'], [446, 'Brittni'], [447, 'Darice'], [448, 'Marji'], [449, 'Erin'], [450, 'Edita'], [451, 'Harlan'], [452, 'Edith'], [453, 'Tiphanie'], [454, 'Stephan'], [455, 'Leodora'], [456, 'Law'], [457, 'Gabriel'], [458, 'Pippo'], [459, 'Shelly'], [460, 'Carree'], [461, 'Beverlie'], [462, 'Sawyer'], [463, 'Mabelle'], [464, 'Ellswerth'], [465, 'Petr'], [466, 'Deny'], [467, 'Laural'], [468, 'Gertrud'], [469, 'Teriann'], [470, 'Shawn'], [471, 'Merell'], [472, 'Tatiania'], [473, 'Austin'], [474, 'Ann-marie'], [475, 'Ruperto'], [476, 'Liz'], [477, 'Arleta'], [478, 'Amalee'], [479, 'Michail'], [480, 'Marshal'], [481, 'Janet'], [482, 'Jarib'], [483, 'Jenifer'], [484, 'Bonni'], [485, 'Suzie'], [486, 'Mada'], [487, 'Misti'], [488, 'Cissiee'], [489, 'Mead'], [490, 'Layton'], [491, 'Inger'], [492, 'Kienan'], [493, 'Luis'], [494, 'Luke'], [495, 'Stanislaus'], [496, 'Tildi'], [497, 'Allianora'], [498, 'Randie'], [499, 'Luigi'], [500, 'Lisetta'], [501, 'Roderic'], [502, 'Orelia'], [503, 'Saundra'], [504, 'Paulina'], [505, 'Nollie'], [506, 'Audy'], [507, 'Tammy'], [508, 'Aubrie'], [509, 'Vance'], [510, 'Cornall'], [511, 'Ole'], [512, 'Hadleigh'], [513, 'Livvie'], [514, 'Poppy'], [515, 'Desi'], [516, 'Nanon'], [517, 'Prisca'], [518, 'Eve'], [519, 'Clarine'], [520, 'Anet'], [521, 'Kylie'], [522, 'Larry'], [523, 'Olin'], [524, 'Sigvard'], [525, 'Worthington'], [526, 'Marianna'], [527, 'Cayla'], [528, 'Prent'], [529, 'Pablo'], [530, 'Shawnee'], [531, 'Mathew'], [532, 'Shirlee'], [533, 'Cheryl'], [534, 'Waldo'], [535, 'May'], [536, 'Shaina'], [537, 'Leopold'], [538, 'Erhard'], [539, 'Ardeen'], [540, 'Viole'], [541, 'Helli'], [542, 'Kassey'], [543, 'Madelle'], [544, 'Gayla'], [545, 'Rickie'], [546, 'Woody'], [547, 'Nerty'], [548, 'Margi'], [549, 'Bran'], [550, 'Fedora'], [551, 'Gennifer'], [552, 'Siobhan'], [553, 'Larisa'], [554, 'Edie'], [555, 'Giordano'], [556, 'Babbette'], [557, 'Isobel'], [558, 'Brandie'], [559, 'Nikki'], [560, 'Rockie'], [561, 'Cchaddie'], [562, 'Illa'], [563, 'Barb'], [564, 'Keene'], [565, 'Dalton'], [566, 'Wilbur'], [567, 'Clare'], [568, 'Jarrett'], [569, 'Tricia'], [570, 'Wilma'], [571, 'Francesco'], [572, 'Teodoro'], [573, 'Adey'], [574, 'Clarabelle'], [575, 'De witt'], [576, 'Andi'], [577, 'Mayor'], [578, 'Quincy'], [579, 'Margit'], [580, 'Janaya'], [581, 'Agnola'], [582, 'Halie'], [583, 'Holli'], [584, 'Nicola'], [585, 'Donal'], [586, 'Enrika'], [587, 'Renate'], [588, 'Dalis'], [589, 'Neville'], [590, 'Kirk'], [591, 'Douglass'], [592, 'Curran'], [593, 'Madelaine'], [594, 'Jeannine'], [595, 'Raviv'], [596, 'Xymenes'], [597, 'Stacey'], [598, 'Zacharie'], [599, 'Devin'], [600, 'Kali'], [601, 'Carolin'], [602, 'Flori'], [603, 'Reese'], [604, 'Cheslie'], [605, 'Stanly'], [606, 'Robina'], [607, 'Bernhard'], [608, 'Trixy'], [609, 'Ertha'], [610, 'Dannye'], [611, 'Briney'], [612, 'Jeffrey'], [613, 'Em'], [614, 'Guy'], [615, 'Willabella'], [616, 'Veradis'], [617, 'Kinna'], [618, 'Naomi'], [619, 'Smith'], [620, 'Babette'], [621, 'Kylila'], [622, 'Brade'], [623, 'Bonnie'], [624, 'Tiffie'], [625, 'Joela'], [626, 'Hugues'], [627, 'Nanice'], [628, 'Swen'], [629, 'Arin'], [630, 'Emalia'], [631, 'Kiley'], [632, 'Maryanna'], [633, 'Pasquale'], [634, 'Pansy'], [635, 'Hillary'], [636, 'Erminia'], [637, 'Amelie'], [638, 'Bearnard'], [639, 'Cassy'], [640, 'Cameron'], [641, 'Justina'], [642, 'Herby'], [643, 'Ferdinanda'], [644, 'Nicki'], [645, 'Douglas'], [646, 'Alisander'], [647, 'Rakel'], [648, 'Mozelle'], [649, 'Jarrod'], [650, 'Sonya'], [651, 'Karel'], [652, 'Florri'], [653, 'Tessy'], [654, 'Hewitt'], [655, 'Lorena'], [656, 'Holly-anne'], [657, 'Carolyne'], [658, 'Christye'], [659, 'Care'], [660, 'Felice'], [661, 'Sam'], [662, 'Peg'], [663, 'Brita'], [664, 'Hewe'], [665, 'Vina'], [666, 'Randy'], [667, 'Sholom'], [668, 'Culver'], [669, 'Valentia'], [670, 'Gran'], [671, 'Amble'], [672, 'Guido'], [673, 'Bathsheba'], [674, 'Ara'], [675, 'Lauri'], [676, 'Madelle'], [677, 'Randell'], [678, 'Loreen'], [679, 'Lucille'], [680, 'Ainslee'], [681, 'Pete'], [682, 'Becky'], [683, 'Berky'], [684, 'Tailor'], [685, 'Gert'], [686, 'Gun'], [687, 'Oona'], [688, 'Carlye'], [689, 'Ethelda'], [690, 'Derek'], [691, 'Gabriell'], [692, 'Brent'], [693, 'Merrilee'], [694, 'Lorenza'], [695, 'Kaiser'], [696, 'Hartley'], [697, 'Hugo'], [698, 'Aldrich'], [699, 'Kermy'], [700, 'Miriam'], [701, 'Lizbeth'], [702, 'Allard'], [703, 'Kym'], [704, 'Tammy'], [705, 'Marylou'], [706, 'Rube'], [707, 'Ardis'], [708, 'Ryon'], [709, 'Guthry'], [710, 'Bronny'], [711, 'Mar'], [712, 'Archie'], [713, 'Tatum'], [714, 'Kordula'], [715, 'Sharlene'], [716, 'Hammad'], [717, 'Meade'], [718, 'Gaylord'], [719, 'Siegfried'], [720, 'Donny'], [721, 'Meaghan'], [722, 'Sherline'], [723, 'Jelene'], [724, 'Emanuele'], [725, 'Ilse'], [726, 'Coretta'], [727, 'Lynna'], [728, 'Kendal'], [729, 'Mead'], [730, 'Bryanty'], [731, 'Hiram'], [732, 'Aggi'], [733, 'Brier'], [734, 'Kendricks'], [735, 'Celine'], [736, 'Aldrich'], [737, 'Hagan'], [738, 'Daile'], [739, 'Hagen'], [740, 'Carolyne'], [741, 'Mackenzie'], [742, 'Agnella'], [743, 'Abagail'], [744, 'Harbert'], [745, 'Dana'], [746, 'Pierson'], [747, 'Magdalene'], [748, 'Mufi'], [749, 'Jayson'], [750, 'Bev'], [751, 'Nessy'], [752, 'Vickie'], [753, 'Ferd'], [754, 'Hunt'], [755, 'Ketty'], [756, 'Dominik'], [757, 'Ivor'], [758, 'Hermione'], [759, 'Antony'], [760, 'Jefferson'], [761, 'Carrie'], [762, 'Forrest'], [763, 'Galvin'], [764, 'Lorette'], [765, 'Yule'], [766, 'Timmy'], [767, 'Kalil'], [768, 'Eleen'], [769, 'Val'], [770, 'Matias'], [771, 'Kevyn'], [772, 'Dahlia'], [773, 'Kalila'], [774, 'Conchita'], [775, 'Lou'], [776, 'Hollis'], [777, 'Gleda'], [778, 'Remington'], [779, 'Molly'], [780, 'Ileana'], [781, 'Rana'], [782, 'Clarita'], [783, 'Sibeal'], [784, 'Gertruda'], [785, 'Jerad'], [786, 'Marlane'], [787, 'Viviyan'], [788, 'Jobina'], [789, 'Valerie'], [790, 'Massimiliano'], [791, 'Paulie'], [792, 'Talyah'], [793, 'Hale'], [794, 'Gerick'], [795, 'Anallese'], [796, 'Latisha'], [797, 'Fonsie'], [798, 'Isiahi'], [799, 'Darlene'], [800, 'Christye'], [801, 'Nat'], [802, 'Bill'], [803, 'Rana'], [804, 'Philippe'], [805, 'Creight'], [806, 'Cheston'], [807, 'Ellwood'], [808, 'Marika'], [809, 'Robinet'], [810, 'Veronike'], [811, 'Mariellen'], [812, 'Fax'], [813, 'Townsend'], [814, 'Tova'], [815, 'Corney'], [816, 'Hestia'], [817, 'Bryna'], [818, 'Aidan'], [819, 'Ferne'], [820, 'Rodney'], [821, 'Nanon'], [822, 'Delores'], [823, 'Benn'], [824, 'Darnell'], [825, 'Genia'], [826, 'Tiffani'], [827, 'Putnem'], [828, 'Noel'], [829, 'Caritta'], [830, 'Charissa'], [831, 'Mellie'], [832, 'Davide'], [833, 'Ree'], [834, 'Diana'], [835, 'Barthel'], [836, 'Mattias'], [837, 'Kellyann'], [838, 'Dita'], [839, 'Garold'], [840, 'Cosmo'], [841, 'Constantia'], [842, 'Zebedee'], [843, 'Pavia'], [844, 'Marylin'], [845, 'Elvina'], [846, 'Loree'], [847, 'Ernesta'], [848, 'Yulma'], [849, 'Violante'], [850, 'Kliment'], [851, 'Beck'], [852, 'Saba'], [853, 'Carmela'], [854, 'Aloise'], [855, 'Piotr'], [856, 'Abigail'], [857, 'Raddy'], [858, 'Kelci'], [859, 'Debbi'], [860, 'Emelyne'], [861, 'Lilllie'], [862, 'Blake'], [863, 'Lazaro'], [864, 'Creight'], [865, 'Cornie'], [866, 'Orbadiah'], [867, 'Carlos'], [868, 'Vonnie'], [869, 'Marylou'], [870, 'Margarethe'], [871, 'Carlynn'], [872, 'Gearard'], [873, 'Vern'], [874, 'Chelsea'], [875, 'Dominga'], [876, 'Mendy'], [877, 'Stesha'], [878, 'Dougy'], [879, 'Ade'], [880, 'Moise'], [881, 'Odilia'], [882, 'Kaspar'], [883, 'Sapphire'], [884, 'Alain'], [885, 'Keith'], [886, 'Wilma'], [887, 'Rica'], [888, 'Riley'], [889, 'Alena'], [890, 'Aila'], [891, 'Dannye'], [892, 'Livvyy'], [893, 'Breena'], [894, 'Vanessa'], [895, 'Dredi'], [896, 'Reggie'], [897, 'Mirabel'], [898, 'Marcello'], [899, 'Aloin'], [900, 'Katharina'], [901, 'Lida'], [902, 'Nancy'], [903, 'Dalton'], [904, 'Cassandra'], [905, 'Gwennie'], [906, 'Dotty'], [907, 'Jacquenette'], [908, 'Raddy'], [909, 'Matty'], [910, 'Lynsey'], [911, 'Dennis'], [912, 'Wyatan'], [913, 'Errol'], [914, 'Rakel'], [915, 'Iseabal'], [916, 'Lexi'], [917, 'Mario'], [918, 'Alic'], [919, 'Norbert'], [920, 'Iggie'], [921, 'Alic'], [922, 'Rozella'], [923, 'Bentlee'], [924, 'Noak'], [925, 'Karl'], [926, 'Doyle'], [927, 'Corabel'], [928, 'Marlow'], [929, 'Danni'], [930, 'Cull'], [931, 'Valentine'], [932, 'Gussie'], [933, 'Fairfax'], [934, 'Larry'], [935, 'Emelyne'], [936, 'Nat'], [937, 'Clari'], [938, 'Annabal'], [939, 'Geraldine'], [940, 'Corenda'], [941, 'Eunice'], [942, 'Tedra'], [943, 'Archie'], [944, 'Georgianna'], [945, 'Starlin'], [946, 'Noble'], [947, 'Jarret'], [948, 'Betteanne'], [949, 'Shepperd'], [950, 'Gwenni'], [951, 'Stefa'], [952, 'Berti'], [953, 'Darb'], [954, 'Billye'], [955, 'Sloane'], [956, 'Nicholle'], [957, 'Lia'], [958, 'Zacharia'], [959, 'Dimitri'], [960, 'Gerick'], [961, 'Adan'], [962, 'Isidoro'], [963, 'Viviene'], [964, 'Rasla'], [965, 'Rosanne'], [966, 'Caroljean'], [967, 'Myron'], [968, 'Elvyn'], [969, 'Marcellus'], [970, 'Noby'], [971, 'Patrica'], [972, 'Corrie'], [973, 'Reid'], [974, 'Maryl'], [975, 'Pepito'], [976, 'Trish'], [977, 'Baxy'], [978, 'Durand'], [979, 'Rois'], [980, 'Leena'], [981, 'Amata'], [982, 'Goldia'], [983, 'Dickie'], [984, 'Allyn'], [985, 'Constanta'], [986, 'Yance'], [987, 'Ceil'], [988, 'Alexis'], [989, 'Hertha'], [990, 'Garth'], [991, 'Lyn'], [992, 'Aurilia'], [993, 'Brigit'], [994, 'Bobbie'], [995, 'Haven'], [996, 'Cob'], [997, 'Carling'], [998, 'Winnie'], [999, 'Lonna'], [1000, 'Iver']]\n",
      "[[3, 'Erich'], [4, 'Jayme'], [5, 'Cordell'], [6, 'Idaline'], [7, 'Liliane'], [8, 'Tiffanie'], [9, 'Durante'], [10, 'Adena'], [11, 'Row'], [12, 'Myra']]\n",
      "[[13, 'Rebeka'], [14, 'Christophe'], [15, 'Paten'], [16, 'Powell'], [17, 'Allyn'], [18, 'Melva'], [19, 'Blake'], [20, 'Aura'], [21, 'Rik'], [22, 'Barrett']]\n",
      "[[23, 'Gwenore'], [24, 'Clemmy'], [25, 'Ola'], [26, 'Agnola'], [27, 'Standford'], [28, 'Darin'], [29, 'Joell'], [30, 'Nickolaus'], [31, 'Beryl'], [32, 'Emmalyn']]\n",
      "[[33, 'Kenton'], [34, 'Gottfried'], [35, 'Katalin'], [36, 'Aldis'], [37, 'Britteny'], [38, 'Abeu'], [39, 'Putnam'], [40, 'Alasdair'], [41, 'Delila'], [42, 'Brandice']]\n",
      "[[43, 'Ellie'], [44, 'Rosabella'], [45, 'Rosemary'], [46, 'Mick'], [47, 'Britta'], [48, 'Klarika'], [49, 'Sigmund'], [50, 'Perice'], [51, 'Frederick'], [52, 'Randa']]\n",
      "[[53, 'Lissie'], [54, 'Nerte'], [55, 'Fields'], [56, 'Ruddie'], [57, 'Damiano'], [58, 'Eran'], [59, 'Lemar'], [60, 'Haskel'], [61, 'Gregoor'], [62, 'Josephine']]\n",
      "[[63, 'Crystal'], [64, 'Marleen'], [65, 'Barnie'], [66, 'Nana'], [67, 'Ulrica'], [68, 'Marjie'], [69, 'Leroy'], [70, 'Lonna'], [71, 'Matti'], [72, 'August']]\n",
      "[[73, 'Donnie'], [74, 'Tisha'], [75, 'Em'], [76, 'Cahra'], [77, 'Gabriella'], [78, 'Sheena'], [79, 'Oriana'], [80, 'Electra'], [81, 'Joann'], [82, 'Angie']]\n",
      "[[83, 'Shell'], [84, 'Cullan'], [85, 'Zaneta'], [86, 'Spenser'], [87, 'Brianna'], [88, 'Maryellen'], [89, 'Inger'], [90, 'Arnaldo'], [91, 'Lilias'], [92, 'Lacy']]\n",
      "[[93, 'Reynolds'], [94, 'Samson'], [95, 'Lorne'], [96, 'Neil'], [97, 'Harriett'], [98, 'Anna-maria'], [99, 'Lynsey'], [100, 'Mitzi'], [101, 'Ernesto'], [102, 'Myrtia']]\n",
      "[[103, 'Faythe'], [104, 'Amelia'], [105, 'Brunhilde'], [106, 'Rabi'], [107, 'Clarice'], [108, 'Sonny'], [109, 'Rosita'], [110, 'Sheila'], [111, 'Raul'], [112, 'Ahmed']]\n",
      "[[113, 'Erhard'], [114, 'Roana'], [115, 'Arnold'], [116, 'Anita'], [117, 'Cynthea'], [118, 'Philippe'], [119, 'Kirsteni'], [120, 'Willi'], [121, 'Kristos'], [122, 'Bartlet']]\n",
      "[[123, 'Clarey'], [124, 'Berenice'], [125, 'Cynthia'], [126, 'Lauraine'], [127, 'Ardelle'], [128, 'Corina'], [129, 'Nico'], [130, 'Tod'], [131, 'Jarrett'], [132, 'Nydia']]\n",
      "[[133, 'Jarad'], [134, 'Pasquale'], [135, 'Alard'], [136, 'Loren'], [137, 'Nefen'], [138, 'Delly'], [139, 'Nickolaus'], [140, 'Rena'], [141, 'Corrine'], [142, 'Read']]\n",
      "[[143, 'Garvey'], [144, 'Jeromy'], [145, 'Heloise'], [146, 'Seka'], [147, 'Dorotea'], [148, 'Kelly'], [149, 'Kassia'], [150, 'Barbe'], [151, 'Dody'], [152, 'Evelyn']]\n",
      "[[153, 'Darrel'], [154, 'Bobbie'], [155, 'Bunni'], [156, 'Belicia'], [157, 'Yard'], [158, 'Tallulah'], [159, 'Harald'], [160, 'Janifer'], [161, 'Tildie'], [162, 'Katey']]\n",
      "[[163, 'Mickie'], [164, 'Jacklin'], [165, 'Elfrida'], [166, 'Keefer'], [167, 'Rozella'], [168, 'Vaughn'], [169, 'Meridel'], [170, 'Karleen'], [171, 'Olympe'], [172, 'Arlie']]\n",
      "[[173, 'Aggi'], [174, 'Edan'], [175, 'Trudy'], [176, 'Berke'], [177, 'Nap'], [178, 'Vale'], [179, 'Forster'], [180, 'Tine'], [181, 'Vasilis'], [182, 'Berte']]\n",
      "[[183, 'Pasquale'], [184, 'Katusha'], [185, 'Leesa'], [186, 'Grant'], [187, 'Lizbeth'], [188, 'Amelita'], [189, 'Ilyssa'], [190, 'Ally'], [191, 'Lamar'], [192, 'Claudell']]\n",
      "[[193, 'Myriam'], [194, 'Emmeline'], [195, 'Arabella'], [196, 'Isador'], [197, 'Floyd'], [198, 'Kylen'], [199, 'Gerek'], [200, 'Maren'], [201, 'Adrianna'], [202, 'Giff']]\n",
      "[[203, 'Danella'], [204, 'Rustin'], [205, 'Joachim'], [206, 'Evey'], [207, 'Sharl'], [208, 'Mil'], [209, 'Dasie'], [210, 'Georgia'], [211, 'Evangelin'], [212, 'Sigismund']]\n",
      "[[213, 'Rozele'], [214, 'Gus'], [215, 'Nerissa'], [216, 'Lurline'], [217, 'Gareth'], [218, 'Florri'], [219, 'Arvie'], [220, 'Barb'], [221, 'Sammie'], [222, 'Yardley']]\n",
      "[[223, 'Joshuah'], [224, 'Yves'], [225, 'Kingsly'], [226, 'Velvet'], [227, 'Levin'], [228, 'Debora'], [229, 'Lucio'], [230, 'Cristabel'], [231, 'Brandy'], [232, 'Benedikt']]\n",
      "[[233, 'Tove'], [234, 'Herrick'], [235, 'Ransom'], [236, 'Antonina'], [237, 'Melvin'], [238, 'Findlay'], [239, 'Ricky'], [240, 'Nev'], [241, 'Ben'], [242, 'Rosalie']]\n",
      "[[243, 'Parker'], [244, 'Jedidiah'], [245, 'Clevey'], [246, 'Roxane'], [247, 'Bale'], [248, 'Becka'], [249, 'Amos'], [250, 'Carmel'], [251, 'Augustin'], [252, 'Nealy']]\n",
      "[[253, 'Reinaldos'], [254, 'Natala'], [255, 'Frieda'], [256, 'Ivett'], [257, 'Bianka'], [258, 'Karmen'], [259, 'Ralina'], [260, 'Germaine'], [261, 'Lisbeth'], [262, 'Fredek']]\n",
      "[[263, 'Reider'], [264, 'Leonid'], [265, 'Melody'], [266, 'Toby'], [267, 'Judas'], [268, 'Friedrich'], [269, 'Westley'], [270, 'Kaleb'], [271, 'Dulcine'], [272, 'Oran']]\n",
      "[[273, 'Garold'], [274, 'Netty'], [275, 'Rainer'], [276, 'Ethe'], [277, 'Stephani'], [278, 'Isa'], [279, 'Forester'], [280, 'Rosene'], [281, 'Sheela'], [282, 'Anabella']]\n",
      "[[283, 'Horatius'], [284, 'Vivien'], [285, 'Thatch'], [286, 'Sholom'], [287, 'Ruthanne'], [288, 'Donny'], [289, 'Vale'], [290, 'Baxy'], [291, 'Aloysia'], [292, 'Mona']]\n",
      "[[293, 'Olly'], [294, 'Carita'], [295, 'Frederique'], [296, 'Carlen'], [297, 'Ania'], [298, 'Curr'], [299, 'Betsey'], [300, 'Dina'], [301, 'Lezlie'], [302, 'Marie-ann']]\n",
      "[[303, 'Zuzana'], [304, 'Kaitlin'], [305, 'El'], [306, 'Gwendolin'], [307, 'Devland'], [308, 'Lorens'], [309, 'Vanna'], [310, 'Silvio'], [311, 'Ebeneser'], [312, 'Sherie']]\n",
      "[[313, 'Karl'], [314, 'Beck'], [315, 'Etan'], [316, 'Garvy'], [317, 'Christophorus'], [318, 'Carrie'], [319, 'Effie'], [320, 'Bennie'], [321, 'Collette'], [322, 'Dorey']]\n",
      "[[323, 'Iseabal'], [324, 'Galven'], [325, 'Sonny'], [326, 'Kaitlynn'], [327, 'Aimee'], [328, 'Rickey'], [329, 'Mollie'], [330, 'Goldi'], [331, 'Cristiano'], [332, 'Calida']]\n",
      "[[333, 'Keary'], [334, 'Sullivan'], [335, 'Arley'], [336, 'Krysta'], [337, 'Raye'], [338, 'Alick'], [339, 'Ezequiel'], [340, 'Becca'], [341, 'Asa'], [342, 'Lemmy']]\n",
      "[[343, 'Jo-ann'], [344, 'Hoebart'], [345, 'Robyn'], [346, 'Gerry'], [347, 'Halsey'], [348, 'Lannie'], [349, 'Lesley'], [350, 'Ky'], [351, 'Olenka'], [352, 'Waylen']]\n",
      "[[353, 'Marlena'], [354, 'Rasia'], [355, 'Dick'], [356, 'Preston'], [357, 'Daune'], [358, 'Warner'], [359, 'Daryl'], [360, 'Pepe'], [361, 'Josefa'], [362, 'Isidor']]\n",
      "[[363, 'Phillida'], [364, 'Dotty'], [365, 'Amara'], [366, 'Rochette'], [367, 'Dawn'], [368, 'Arley'], [369, 'Gilberto'], [370, 'Tully'], [371, 'Tuckie'], [372, 'Yevette']]\n",
      "[[373, 'Theresina'], [374, 'Pacorro'], [375, 'Tilly'], [376, 'Worthy'], [377, 'Neddie'], [378, 'Anjanette'], [379, 'Andeee'], [380, 'Flem'], [381, 'Rolland'], [382, 'Deck']]\n",
      "[[383, 'Uta'], [384, 'Sherwin'], [385, 'Alica'], [386, 'Kaitlin'], [387, 'Durant'], [388, 'Corney'], [389, 'Trina'], [390, 'Eziechiele'], [391, 'Marcie'], [392, 'Hamil']]\n",
      "[[393, 'Allix'], [394, 'Sullivan'], [395, 'Lorettalorna'], [396, 'Berkley'], [397, 'Willie'], [398, 'Davis'], [399, 'Nikki'], [400, 'Manuel'], [401, 'Tallie'], [402, 'Ajay']]\n",
      "[[403, 'Rodolphe'], [404, 'Caye'], [405, 'Sayre'], [406, 'Guenevere'], [407, 'Cart'], [408, 'Frederik'], [409, 'Shadow'], [410, 'Dasha'], [411, 'Valle'], [412, 'Fleur']]\n",
      "[[413, 'Ros'], [414, 'Eleni'], [415, 'Bev'], [416, 'Nataline'], [417, 'Brittne'], [418, 'Charlotte'], [419, 'Jaime'], [420, 'Berk'], [421, 'Sari'], [422, 'Stanford']]\n",
      "[[423, 'Cheryl'], [424, 'Jillane'], [425, 'Ingamar'], [426, 'Noah'], [427, 'Armstrong'], [428, 'Ford'], [429, 'Val'], [430, 'Merle'], [431, 'Luise'], [432, 'Virgie']]\n",
      "[[433, 'Conroy'], [434, 'Tracey'], [435, 'Rudolf'], [436, 'Bryn'], [437, 'Adrianna'], [438, 'Randolph'], [439, 'Elicia'], [440, 'Onida'], [441, 'Baird'], [442, 'Pammi']]\n",
      "[[443, 'Duane'], [444, 'Ethelda'], [445, 'Bartlett'], [446, 'Brittni'], [447, 'Darice'], [448, 'Marji'], [449, 'Erin'], [450, 'Edita'], [451, 'Harlan'], [452, 'Edith']]\n",
      "[[453, 'Tiphanie'], [454, 'Stephan'], [455, 'Leodora'], [456, 'Law'], [457, 'Gabriel'], [458, 'Pippo'], [459, 'Shelly'], [460, 'Carree'], [461, 'Beverlie'], [462, 'Sawyer']]\n",
      "[[463, 'Mabelle'], [464, 'Ellswerth'], [465, 'Petr'], [466, 'Deny'], [467, 'Laural'], [468, 'Gertrud'], [469, 'Teriann'], [470, 'Shawn'], [471, 'Merell'], [472, 'Tatiania']]\n",
      "[[473, 'Austin'], [474, 'Ann-marie'], [475, 'Ruperto'], [476, 'Liz'], [477, 'Arleta'], [478, 'Amalee'], [479, 'Michail'], [480, 'Marshal'], [481, 'Janet'], [482, 'Jarib']]\n",
      "[[483, 'Jenifer'], [484, 'Bonni'], [485, 'Suzie'], [486, 'Mada'], [487, 'Misti'], [488, 'Cissiee'], [489, 'Mead'], [490, 'Layton'], [491, 'Inger'], [492, 'Kienan']]\n",
      "[[493, 'Luis'], [494, 'Luke'], [495, 'Stanislaus'], [496, 'Tildi'], [497, 'Allianora'], [498, 'Randie'], [499, 'Luigi'], [500, 'Lisetta'], [501, 'Roderic'], [502, 'Orelia']]\n",
      "[[503, 'Saundra'], [504, 'Paulina'], [505, 'Nollie'], [506, 'Audy'], [507, 'Tammy'], [508, 'Aubrie'], [509, 'Vance'], [510, 'Cornall'], [511, 'Ole'], [512, 'Hadleigh']]\n",
      "[[513, 'Livvie'], [514, 'Poppy'], [515, 'Desi'], [516, 'Nanon'], [517, 'Prisca'], [518, 'Eve'], [519, 'Clarine'], [520, 'Anet'], [521, 'Kylie'], [522, 'Larry']]\n",
      "[[523, 'Olin'], [524, 'Sigvard'], [525, 'Worthington'], [526, 'Marianna'], [527, 'Cayla'], [528, 'Prent'], [529, 'Pablo'], [530, 'Shawnee'], [531, 'Mathew'], [532, 'Shirlee']]\n",
      "[[533, 'Cheryl'], [534, 'Waldo'], [535, 'May'], [536, 'Shaina'], [537, 'Leopold'], [538, 'Erhard'], [539, 'Ardeen'], [540, 'Viole'], [541, 'Helli'], [542, 'Kassey']]\n",
      "[[543, 'Madelle'], [544, 'Gayla'], [545, 'Rickie'], [546, 'Woody'], [547, 'Nerty'], [548, 'Margi'], [549, 'Bran'], [550, 'Fedora'], [551, 'Gennifer'], [552, 'Siobhan']]\n",
      "[[553, 'Larisa'], [554, 'Edie'], [555, 'Giordano'], [556, 'Babbette'], [557, 'Isobel'], [558, 'Brandie'], [559, 'Nikki'], [560, 'Rockie'], [561, 'Cchaddie'], [562, 'Illa']]\n",
      "[[563, 'Barb'], [564, 'Keene'], [565, 'Dalton'], [566, 'Wilbur'], [567, 'Clare'], [568, 'Jarrett'], [569, 'Tricia'], [570, 'Wilma'], [571, 'Francesco'], [572, 'Teodoro']]\n",
      "[[573, 'Adey'], [574, 'Clarabelle'], [575, 'De witt'], [576, 'Andi'], [577, 'Mayor'], [578, 'Quincy'], [579, 'Margit'], [580, 'Janaya'], [581, 'Agnola'], [582, 'Halie']]\n",
      "[[583, 'Holli'], [584, 'Nicola'], [585, 'Donal'], [586, 'Enrika'], [587, 'Renate'], [588, 'Dalis'], [589, 'Neville'], [590, 'Kirk'], [591, 'Douglass'], [592, 'Curran']]\n",
      "[[593, 'Madelaine'], [594, 'Jeannine'], [595, 'Raviv'], [596, 'Xymenes'], [597, 'Stacey'], [598, 'Zacharie'], [599, 'Devin'], [600, 'Kali'], [601, 'Carolin'], [602, 'Flori']]\n",
      "[[603, 'Reese'], [604, 'Cheslie'], [605, 'Stanly'], [606, 'Robina'], [607, 'Bernhard'], [608, 'Trixy'], [609, 'Ertha'], [610, 'Dannye'], [611, 'Briney'], [612, 'Jeffrey']]\n",
      "[[613, 'Em'], [614, 'Guy'], [615, 'Willabella'], [616, 'Veradis'], [617, 'Kinna'], [618, 'Naomi'], [619, 'Smith'], [620, 'Babette'], [621, 'Kylila'], [622, 'Brade']]\n",
      "[[623, 'Bonnie'], [624, 'Tiffie'], [625, 'Joela'], [626, 'Hugues'], [627, 'Nanice'], [628, 'Swen'], [629, 'Arin'], [630, 'Emalia'], [631, 'Kiley'], [632, 'Maryanna']]\n",
      "[[633, 'Pasquale'], [634, 'Pansy'], [635, 'Hillary'], [636, 'Erminia'], [637, 'Amelie'], [638, 'Bearnard'], [639, 'Cassy'], [640, 'Cameron'], [641, 'Justina'], [642, 'Herby']]\n",
      "[[643, 'Ferdinanda'], [644, 'Nicki'], [645, 'Douglas'], [646, 'Alisander'], [647, 'Rakel'], [648, 'Mozelle'], [649, 'Jarrod'], [650, 'Sonya'], [651, 'Karel'], [652, 'Florri']]\n",
      "[[653, 'Tessy'], [654, 'Hewitt'], [655, 'Lorena'], [656, 'Holly-anne'], [657, 'Carolyne'], [658, 'Christye'], [659, 'Care'], [660, 'Felice'], [661, 'Sam'], [662, 'Peg']]\n",
      "[[663, 'Brita'], [664, 'Hewe'], [665, 'Vina'], [666, 'Randy'], [667, 'Sholom'], [668, 'Culver'], [669, 'Valentia'], [670, 'Gran'], [671, 'Amble'], [672, 'Guido']]\n",
      "[[673, 'Bathsheba'], [674, 'Ara'], [675, 'Lauri'], [676, 'Madelle'], [677, 'Randell'], [678, 'Loreen'], [679, 'Lucille'], [680, 'Ainslee'], [681, 'Pete'], [682, 'Becky']]\n",
      "[[683, 'Berky'], [684, 'Tailor'], [685, 'Gert'], [686, 'Gun'], [687, 'Oona'], [688, 'Carlye'], [689, 'Ethelda'], [690, 'Derek'], [691, 'Gabriell'], [692, 'Brent']]\n",
      "[[693, 'Merrilee'], [694, 'Lorenza'], [695, 'Kaiser'], [696, 'Hartley'], [697, 'Hugo'], [698, 'Aldrich'], [699, 'Kermy'], [700, 'Miriam'], [701, 'Lizbeth'], [702, 'Allard']]\n",
      "[[703, 'Kym'], [704, 'Tammy'], [705, 'Marylou'], [706, 'Rube'], [707, 'Ardis'], [708, 'Ryon'], [709, 'Guthry'], [710, 'Bronny'], [711, 'Mar'], [712, 'Archie']]\n",
      "[[713, 'Tatum'], [714, 'Kordula'], [715, 'Sharlene'], [716, 'Hammad'], [717, 'Meade'], [718, 'Gaylord'], [719, 'Siegfried'], [720, 'Donny'], [721, 'Meaghan'], [722, 'Sherline']]\n",
      "[[723, 'Jelene'], [724, 'Emanuele'], [725, 'Ilse'], [726, 'Coretta'], [727, 'Lynna'], [728, 'Kendal'], [729, 'Mead'], [730, 'Bryanty'], [731, 'Hiram'], [732, 'Aggi']]\n",
      "[[733, 'Brier'], [734, 'Kendricks'], [735, 'Celine'], [736, 'Aldrich'], [737, 'Hagan'], [738, 'Daile'], [739, 'Hagen'], [740, 'Carolyne'], [741, 'Mackenzie'], [742, 'Agnella']]\n",
      "[[743, 'Abagail'], [744, 'Harbert'], [745, 'Dana'], [746, 'Pierson'], [747, 'Magdalene'], [748, 'Mufi'], [749, 'Jayson'], [750, 'Bev'], [751, 'Nessy'], [752, 'Vickie']]\n",
      "[[753, 'Ferd'], [754, 'Hunt'], [755, 'Ketty'], [756, 'Dominik'], [757, 'Ivor'], [758, 'Hermione'], [759, 'Antony'], [760, 'Jefferson'], [761, 'Carrie'], [762, 'Forrest']]\n",
      "[[763, 'Galvin'], [764, 'Lorette'], [765, 'Yule'], [766, 'Timmy'], [767, 'Kalil'], [768, 'Eleen'], [769, 'Val'], [770, 'Matias'], [771, 'Kevyn'], [772, 'Dahlia']]\n",
      "[[773, 'Kalila'], [774, 'Conchita'], [775, 'Lou'], [776, 'Hollis'], [777, 'Gleda'], [778, 'Remington'], [779, 'Molly'], [780, 'Ileana'], [781, 'Rana'], [782, 'Clarita']]\n",
      "[[783, 'Sibeal'], [784, 'Gertruda'], [785, 'Jerad'], [786, 'Marlane'], [787, 'Viviyan'], [788, 'Jobina'], [789, 'Valerie'], [790, 'Massimiliano'], [791, 'Paulie'], [792, 'Talyah']]\n",
      "[[793, 'Hale'], [794, 'Gerick'], [795, 'Anallese'], [796, 'Latisha'], [797, 'Fonsie'], [798, 'Isiahi'], [799, 'Darlene'], [800, 'Christye'], [801, 'Nat'], [802, 'Bill']]\n",
      "[[803, 'Rana'], [804, 'Philippe'], [805, 'Creight'], [806, 'Cheston'], [807, 'Ellwood'], [808, 'Marika'], [809, 'Robinet'], [810, 'Veronike'], [811, 'Mariellen'], [812, 'Fax']]\n",
      "[[813, 'Townsend'], [814, 'Tova'], [815, 'Corney'], [816, 'Hestia'], [817, 'Bryna'], [818, 'Aidan'], [819, 'Ferne'], [820, 'Rodney'], [821, 'Nanon'], [822, 'Delores']]\n",
      "[[823, 'Benn'], [824, 'Darnell'], [825, 'Genia'], [826, 'Tiffani'], [827, 'Putnem'], [828, 'Noel'], [829, 'Caritta'], [830, 'Charissa'], [831, 'Mellie'], [832, 'Davide']]\n",
      "[[833, 'Ree'], [834, 'Diana'], [835, 'Barthel'], [836, 'Mattias'], [837, 'Kellyann'], [838, 'Dita'], [839, 'Garold'], [840, 'Cosmo'], [841, 'Constantia'], [842, 'Zebedee']]\n",
      "[[843, 'Pavia'], [844, 'Marylin'], [845, 'Elvina'], [846, 'Loree'], [847, 'Ernesta'], [848, 'Yulma'], [849, 'Violante'], [850, 'Kliment'], [851, 'Beck'], [852, 'Saba']]\n",
      "[[853, 'Carmela'], [854, 'Aloise'], [855, 'Piotr'], [856, 'Abigail'], [857, 'Raddy'], [858, 'Kelci'], [859, 'Debbi'], [860, 'Emelyne'], [861, 'Lilllie'], [862, 'Blake']]\n",
      "[[863, 'Lazaro'], [864, 'Creight'], [865, 'Cornie'], [866, 'Orbadiah'], [867, 'Carlos'], [868, 'Vonnie'], [869, 'Marylou'], [870, 'Margarethe'], [871, 'Carlynn'], [872, 'Gearard']]\n",
      "[[873, 'Vern'], [874, 'Chelsea'], [875, 'Dominga'], [876, 'Mendy'], [877, 'Stesha'], [878, 'Dougy'], [879, 'Ade'], [880, 'Moise'], [881, 'Odilia'], [882, 'Kaspar']]\n",
      "[[883, 'Sapphire'], [884, 'Alain'], [885, 'Keith'], [886, 'Wilma'], [887, 'Rica'], [888, 'Riley'], [889, 'Alena'], [890, 'Aila'], [891, 'Dannye'], [892, 'Livvyy']]\n",
      "[[893, 'Breena'], [894, 'Vanessa'], [895, 'Dredi'], [896, 'Reggie'], [897, 'Mirabel'], [898, 'Marcello'], [899, 'Aloin'], [900, 'Katharina'], [901, 'Lida'], [902, 'Nancy']]\n",
      "[[903, 'Dalton'], [904, 'Cassandra'], [905, 'Gwennie'], [906, 'Dotty'], [907, 'Jacquenette'], [908, 'Raddy'], [909, 'Matty'], [910, 'Lynsey'], [911, 'Dennis'], [912, 'Wyatan']]\n",
      "[[913, 'Errol'], [914, 'Rakel'], [915, 'Iseabal'], [916, 'Lexi'], [917, 'Mario'], [918, 'Alic'], [919, 'Norbert'], [920, 'Iggie'], [921, 'Alic'], [922, 'Rozella']]\n",
      "[[923, 'Bentlee'], [924, 'Noak'], [925, 'Karl'], [926, 'Doyle'], [927, 'Corabel'], [928, 'Marlow'], [929, 'Danni'], [930, 'Cull'], [931, 'Valentine'], [932, 'Gussie']]\n",
      "[[933, 'Fairfax'], [934, 'Larry'], [935, 'Emelyne'], [936, 'Nat'], [937, 'Clari'], [938, 'Annabal'], [939, 'Geraldine'], [940, 'Corenda'], [941, 'Eunice'], [942, 'Tedra']]\n",
      "[[943, 'Archie'], [944, 'Georgianna'], [945, 'Starlin'], [946, 'Noble'], [947, 'Jarret'], [948, 'Betteanne'], [949, 'Shepperd'], [950, 'Gwenni'], [951, 'Stefa'], [952, 'Berti']]\n",
      "[[953, 'Darb'], [954, 'Billye'], [955, 'Sloane'], [956, 'Nicholle'], [957, 'Lia'], [958, 'Zacharia'], [959, 'Dimitri'], [960, 'Gerick'], [961, 'Adan'], [962, 'Isidoro']]\n",
      "[[963, 'Viviene'], [964, 'Rasla'], [965, 'Rosanne'], [966, 'Caroljean'], [967, 'Myron'], [968, 'Elvyn'], [969, 'Marcellus'], [970, 'Noby'], [971, 'Patrica'], [972, 'Corrie']]\n",
      "[[973, 'Reid'], [974, 'Maryl'], [975, 'Pepito'], [976, 'Trish'], [977, 'Baxy'], [978, 'Durand'], [979, 'Rois'], [980, 'Leena'], [981, 'Amata'], [982, 'Goldia']]\n",
      "[[983, 'Dickie'], [984, 'Allyn'], [985, 'Constanta'], [986, 'Yance'], [987, 'Ceil'], [988, 'Alexis'], [989, 'Hertha'], [990, 'Garth'], [991, 'Lyn'], [992, 'Aurilia']]\n",
      "[[993, 'Brigit'], [994, 'Bobbie'], [995, 'Haven'], [996, 'Cob'], [997, 'Carling'], [998, 'Winnie'], [999, 'Lonna'], [1000, 'Iver']]\n"
     ]
    },
    {
     "output_type": "execute_result",
     "data": {
      "text/plain": [
       "998"
      ]
     },
     "metadata": {},
     "execution_count": 6
    }
   ],
   "metadata": {}
  },
  {
   "cell_type": "code",
   "execution_count": 56,
   "source": [
    "df_listed = fakepeople.values.tolist()[0:10]\n"
   ],
   "outputs": [],
   "metadata": {}
  },
  {
   "cell_type": "code",
   "execution_count": 57,
   "source": [
    "print(df_listed)"
   ],
   "outputs": [
    {
     "output_type": "stream",
     "name": "stdout",
     "text": [
      "[[3, 'Erich'], [4, 'Jayme'], [5, 'Cordell'], [6, 'Idaline'], [7, 'Liliane'], [8, 'Tiffanie'], [9, 'Durante'], [10, 'Adena'], [11, 'Row'], [12, 'Myra']]\n"
     ]
    }
   ],
   "metadata": {}
  },
  {
   "cell_type": "code",
   "execution_count": 58,
   "source": [
    "import pyodbc\n",
    "sql_conn = pyodbc.connect('DRIVER={ODBC Driver 17 for SQL Server};SERVER='+'localhost'+';DATABASE=TestDb;UID=sa;PWD=Password123')\n",
    "cur = sql_conn.cursor()\n",
    "cur.executemany('INSERT INTO dbo.People (id,name) VALUES (?,?)', df_listed)"
   ],
   "outputs": [],
   "metadata": {}
  },
  {
   "cell_type": "code",
   "execution_count": 59,
   "source": [
    "cur.close()"
   ],
   "outputs": [],
   "metadata": {}
  },
  {
   "cell_type": "code",
   "execution_count": 63,
   "source": [
    "multiple_fast_insert(fakepeople, 'TestDB','dbo','People',batch_size=10)"
   ],
   "outputs": [
    {
     "output_type": "error",
     "ename": "ProgrammingError",
     "evalue": "('The SQL contains 2 parameter markers, but 10 parameters were supplied', 'HY000')",
     "traceback": [
      "\u001b[0;31m---------------------------------------------------------------------------\u001b[0m",
      "\u001b[0;31mProgrammingError\u001b[0m                          Traceback (most recent call last)",
      "\u001b[0;32m/tmp/ipykernel_3948/3338064024.py\u001b[0m in \u001b[0;36m<module>\u001b[0;34m\u001b[0m\n\u001b[0;32m----> 1\u001b[0;31m \u001b[0mmultiple_fast_insert\u001b[0m\u001b[0;34m(\u001b[0m\u001b[0mfakepeople\u001b[0m\u001b[0;34m,\u001b[0m \u001b[0;34m'TestDB'\u001b[0m\u001b[0;34m,\u001b[0m\u001b[0;34m'dbo'\u001b[0m\u001b[0;34m,\u001b[0m\u001b[0;34m'People'\u001b[0m\u001b[0;34m,\u001b[0m\u001b[0mbatch_size\u001b[0m\u001b[0;34m=\u001b[0m\u001b[0;36m10\u001b[0m\u001b[0;34m)\u001b[0m\u001b[0;34m\u001b[0m\u001b[0;34m\u001b[0m\u001b[0m\n\u001b[0m",
      "\u001b[0;32m~/github/sql-tester/multiple_insert.py\u001b[0m in \u001b[0;36mmultiple_fast_insert\u001b[0;34m(dataframe, db, schema, table, server_name, uid, pw, batch_size)\u001b[0m\n\u001b[1;32m     22\u001b[0m     \u001b[0mprint\u001b[0m\u001b[0;34m(\u001b[0m\u001b[0mdf_listed\u001b[0m\u001b[0;34m)\u001b[0m\u001b[0;34m\u001b[0m\u001b[0;34m\u001b[0m\u001b[0m\n\u001b[1;32m     23\u001b[0m     \u001b[0mi\u001b[0m \u001b[0;34m=\u001b[0m \u001b[0;36m0\u001b[0m\u001b[0;34m\u001b[0m\u001b[0;34m\u001b[0m\u001b[0m\n\u001b[0;32m---> 24\u001b[0;31m     \u001b[0;32mwhile\u001b[0m \u001b[0mi\u001b[0m \u001b[0;34m<\u001b[0m \u001b[0mlen\u001b[0m\u001b[0;34m(\u001b[0m\u001b[0mdf_listed\u001b[0m\u001b[0;34m)\u001b[0m\u001b[0;34m:\u001b[0m\u001b[0;34m\u001b[0m\u001b[0;34m\u001b[0m\u001b[0m\n\u001b[0m\u001b[1;32m     25\u001b[0m         \u001b[0mchunk\u001b[0m \u001b[0;34m=\u001b[0m \u001b[0mdf_listed\u001b[0m\u001b[0;34m[\u001b[0m\u001b[0mi\u001b[0m\u001b[0;34m:\u001b[0m\u001b[0mi\u001b[0m\u001b[0;34m+\u001b[0m\u001b[0mbatch_size\u001b[0m\u001b[0;34m]\u001b[0m\u001b[0;34m\u001b[0m\u001b[0;34m\u001b[0m\u001b[0m\n\u001b[1;32m     26\u001b[0m         \u001b[0mprint\u001b[0m\u001b[0;34m(\u001b[0m\u001b[0mchunk\u001b[0m\u001b[0;34m)\u001b[0m\u001b[0;34m\u001b[0m\u001b[0;34m\u001b[0m\u001b[0m\n",
      "\u001b[0;31mProgrammingError\u001b[0m: ('The SQL contains 2 parameter markers, but 10 parameters were supplied', 'HY000')"
     ]
    }
   ],
   "metadata": {}
  },
  {
   "cell_type": "code",
   "execution_count": null,
   "source": [],
   "outputs": [],
   "metadata": {}
  }
 ],
 "metadata": {
  "orig_nbformat": 4,
  "language_info": {
   "name": "python",
   "version": "3.8.10",
   "mimetype": "text/x-python",
   "codemirror_mode": {
    "name": "ipython",
    "version": 3
   },
   "pygments_lexer": "ipython3",
   "nbconvert_exporter": "python",
   "file_extension": ".py"
  },
  "kernelspec": {
   "name": "python3",
   "display_name": "Python 3.8.10 64-bit ('.venv': venv)"
  },
  "interpreter": {
   "hash": "1e9662d8aa3bf4a2b54f4ec4fbcea7c65ef7215b583164fe1f0572415c2a96a1"
  }
 },
 "nbformat": 4,
 "nbformat_minor": 2
}